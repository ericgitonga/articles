{
 "cells": [
  {
   "cell_type": "markdown",
   "id": "7555128d",
   "metadata": {},
   "source": [
    "# Dates and Times with pandas.DatetimeIndex"
   ]
  },
  {
   "cell_type": "markdown",
   "id": "9ebca732",
   "metadata": {},
   "source": [
    "When working with data, one task that we might have to deal with often is manipulation of dates and times. The format provided in the dataset may not always be in a format we can easily use in the various tasks required. Transforming from that format into one that can be easily used is something that forms a core part of the preparatory work needed to be performed on a dataset.\n",
    "\n",
    "In this notebook, we shall explore the use of the Pandas method `DatetimeIndex` in transforming date data into a format we can use for further exploration."
   ]
  },
  {
   "cell_type": "markdown",
   "id": "bc7e42fc",
   "metadata": {},
   "source": [
    "Import Pandas and read in the data. We shall use the [kiva loans dataset](https://www.kaggle.com/kiva/data-science-for-good-kiva-crowdfunding?select=kiva_loans.csv). We shall use just a subset of the columns in this notebook."
   ]
  },
  {
   "cell_type": "code",
   "execution_count": 1,
   "id": "0f468682",
   "metadata": {},
   "outputs": [
    {
     "data": {
      "text/html": [
       "<div>\n",
       "<style scoped>\n",
       "    .dataframe tbody tr th:only-of-type {\n",
       "        vertical-align: middle;\n",
       "    }\n",
       "\n",
       "    .dataframe tbody tr th {\n",
       "        vertical-align: top;\n",
       "    }\n",
       "\n",
       "    .dataframe thead th {\n",
       "        text-align: right;\n",
       "    }\n",
       "</style>\n",
       "<table border=\"1\" class=\"dataframe\">\n",
       "  <thead>\n",
       "    <tr style=\"text-align: right;\">\n",
       "      <th></th>\n",
       "      <th>loan_amount</th>\n",
       "      <th>sector</th>\n",
       "      <th>country</th>\n",
       "      <th>funded_time</th>\n",
       "    </tr>\n",
       "  </thead>\n",
       "  <tbody>\n",
       "    <tr>\n",
       "      <th>0</th>\n",
       "      <td>300.0</td>\n",
       "      <td>Food</td>\n",
       "      <td>Pakistan</td>\n",
       "      <td>2014-01-02 10:06:32+00:00</td>\n",
       "    </tr>\n",
       "    <tr>\n",
       "      <th>1</th>\n",
       "      <td>575.0</td>\n",
       "      <td>Transportation</td>\n",
       "      <td>Pakistan</td>\n",
       "      <td>2014-01-02 09:17:23+00:00</td>\n",
       "    </tr>\n",
       "    <tr>\n",
       "      <th>2</th>\n",
       "      <td>150.0</td>\n",
       "      <td>Transportation</td>\n",
       "      <td>India</td>\n",
       "      <td>2014-01-01 16:01:36+00:00</td>\n",
       "    </tr>\n",
       "    <tr>\n",
       "      <th>3</th>\n",
       "      <td>200.0</td>\n",
       "      <td>Arts</td>\n",
       "      <td>Pakistan</td>\n",
       "      <td>2014-01-01 13:00:00+00:00</td>\n",
       "    </tr>\n",
       "    <tr>\n",
       "      <th>4</th>\n",
       "      <td>400.0</td>\n",
       "      <td>Food</td>\n",
       "      <td>Pakistan</td>\n",
       "      <td>2014-01-01 19:18:51+00:00</td>\n",
       "    </tr>\n",
       "  </tbody>\n",
       "</table>\n",
       "</div>"
      ],
      "text/plain": [
       "   loan_amount          sector   country                funded_time\n",
       "0        300.0            Food  Pakistan  2014-01-02 10:06:32+00:00\n",
       "1        575.0  Transportation  Pakistan  2014-01-02 09:17:23+00:00\n",
       "2        150.0  Transportation     India  2014-01-01 16:01:36+00:00\n",
       "3        200.0            Arts  Pakistan  2014-01-01 13:00:00+00:00\n",
       "4        400.0            Food  Pakistan  2014-01-01 19:18:51+00:00"
      ]
     },
     "execution_count": 1,
     "metadata": {},
     "output_type": "execute_result"
    }
   ],
   "source": [
    "import pandas as pd\n",
    "\n",
    "df = pd.read_csv(\"data/kiva_loans.csv\", usecols=[2,4,7,13])\n",
    "df.head()"
   ]
  },
  {
   "cell_type": "markdown",
   "id": "200b0246",
   "metadata": {},
   "source": [
    "Say you want to parse the `posted_time` and `funded_time` columns and get the different portions of the date (second, minute, hour, day, month, year). You could use regular text processing to do this (similar to the methods in [this article](https://medium.com/analytics-vidhya/parsing-a-text-column-with-python-bf8fde6a771a)), or you could use the Pandas `DatetimeIndex` function. In this article, we shall use the `DatetimeIndex` function.\n",
    "\n",
    "If you explore the data types of the various columns, you will find that both time columns have the `object` data type."
   ]
  },
  {
   "cell_type": "code",
   "execution_count": 2,
   "id": "7d91bb8e",
   "metadata": {},
   "outputs": [
    {
     "data": {
      "text/plain": [
       "loan_amount    float64\n",
       "sector          object\n",
       "country         object\n",
       "funded_time     object\n",
       "dtype: object"
      ]
     },
     "execution_count": 2,
     "metadata": {},
     "output_type": "execute_result"
    }
   ],
   "source": [
    "df.dtypes"
   ]
  },
  {
   "cell_type": "markdown",
   "id": "f6cb4017",
   "metadata": {},
   "source": [
    "First we need to convert the values in those two columns into a `datetime` object. For that we use the `pandas.to_datetime` method."
   ]
  },
  {
   "cell_type": "code",
   "execution_count": 3,
   "id": "bda54c39",
   "metadata": {},
   "outputs": [],
   "source": [
    "time_cols = list(df.columns)[3:]\n",
    "\n",
    "for i in time_cols:\n",
    "    df[i] = pd.to_datetime(df[i])"
   ]
  },
  {
   "cell_type": "markdown",
   "id": "ed360742",
   "metadata": {},
   "source": [
    "When you now check it, you will see that the `posted_time` and `funded_time` columns are of type `datetime`"
   ]
  },
  {
   "cell_type": "code",
   "execution_count": 4,
   "id": "0f48a436",
   "metadata": {},
   "outputs": [
    {
     "data": {
      "text/plain": [
       "loan_amount                float64\n",
       "sector                      object\n",
       "country                     object\n",
       "funded_time    datetime64[ns, UTC]\n",
       "dtype: object"
      ]
     },
     "execution_count": 4,
     "metadata": {},
     "output_type": "execute_result"
    }
   ],
   "source": [
    "df.dtypes"
   ]
  },
  {
   "cell_type": "markdown",
   "id": "d35c566f",
   "metadata": {},
   "source": [
    "We can now proceed to process these columns using the `DatetimeIndex`. Check out the [documentation](https://pandas.pydata.org/pandas-docs/stable/reference/api/pandas.DatetimeIndex.html) for more details.  \n",
    "Before processing all the rows, let us first pick out one instance of a timestamp and use that to walk through the various methods (denoted by parenthesis `()` after the name) and attributes."
   ]
  },
  {
   "cell_type": "code",
   "execution_count": 5,
   "id": "fceb2e1a",
   "metadata": {},
   "outputs": [
    {
     "data": {
      "text/plain": [
       "Timestamp('2014-01-02 10:06:32+0000', tz='UTC')"
      ]
     },
     "execution_count": 5,
     "metadata": {},
     "output_type": "execute_result"
    }
   ],
   "source": [
    "sample = df.loc[0,\"funded_time\"]\n",
    "sample"
   ]
  },
  {
   "cell_type": "markdown",
   "id": "0edcfbb1",
   "metadata": {},
   "source": [
    "## Dates\n",
    "### Date\n",
    "`date()` returns just the date portion of the time stamp."
   ]
  },
  {
   "cell_type": "code",
   "execution_count": 6,
   "id": "5dc8ffa9",
   "metadata": {},
   "outputs": [
    {
     "name": "stdout",
     "output_type": "stream",
     "text": [
      "2014-01-02\n"
     ]
    }
   ],
   "source": [
    "print(sample.date())"
   ]
  },
  {
   "cell_type": "markdown",
   "id": "d7e09837",
   "metadata": {},
   "source": [
    "### Year\n",
    "`year` returns the year.  \n",
    "`is_year_start`tests to see if it is the first day of the year.  \n",
    "`is_year_end` tests to see if it is the last day of the year.  \n",
    "`is_leap_year` tests to see if it is a leap year.  "
   ]
  },
  {
   "cell_type": "code",
   "execution_count": 7,
   "id": "b913ad2e",
   "metadata": {},
   "outputs": [
    {
     "name": "stdout",
     "output_type": "stream",
     "text": [
      "2014 \n",
      " False \n",
      " False \n",
      " False\n"
     ]
    }
   ],
   "source": [
    "print(sample.year,\"\\n\",sample.is_year_start,\"\\n\",sample.is_year_end,\"\\n\",sample.is_leap_year)"
   ]
  },
  {
   "cell_type": "markdown",
   "id": "b2801027",
   "metadata": {},
   "source": [
    "### Quarter\n",
    "`quarter` returns the quarter number of the year.  \n",
    "`is_quarter_start` tests to see if it is the first day of the quarter.  \n",
    "`is_quarter_end` tests to see if it is the last day of the quarter.  "
   ]
  },
  {
   "cell_type": "code",
   "execution_count": 8,
   "id": "236a040e",
   "metadata": {},
   "outputs": [
    {
     "name": "stdout",
     "output_type": "stream",
     "text": [
      "1 \n",
      " False \n",
      " False\n"
     ]
    }
   ],
   "source": [
    "print(sample.quarter,\"\\n\",sample.is_quarter_start,\"\\n\",sample.is_quarter_end)"
   ]
  },
  {
   "cell_type": "markdown",
   "id": "f9a12843",
   "metadata": {},
   "source": [
    "### Month\n",
    "`month` returns the month number.  \n",
    "`month_name()` returns the name of the month.  \n",
    "`is_month_start` tests to see if it is the first day of the month.  \n",
    "`is_month_end` tests to see if it is the last day of the month."
   ]
  },
  {
   "cell_type": "code",
   "execution_count": 9,
   "id": "cde75a35",
   "metadata": {},
   "outputs": [
    {
     "name": "stdout",
     "output_type": "stream",
     "text": [
      "1 \n",
      " January \n",
      " False \n",
      " False\n"
     ]
    }
   ],
   "source": [
    "print(sample.month,\"\\n\",sample.month_name(),\"\\n\",sample.is_month_start,\"\\n\",sample.is_month_end)"
   ]
  },
  {
   "cell_type": "markdown",
   "id": "f363965e",
   "metadata": {},
   "source": [
    "### Day\n",
    "`day` returns the date in the month.  \n",
    "`day_name()` returns the name of the day.  \n",
    "`dayofweek` returns the ordinal position of the day in a week. Monday is considered the first, with an ordinal position of 0.  \n",
    "`dayofyear` returns the number of the day in the year.  \n",
    "`daysinmonth` returns the number of days in that month.  "
   ]
  },
  {
   "cell_type": "code",
   "execution_count": 10,
   "id": "8cfb4669",
   "metadata": {},
   "outputs": [
    {
     "name": "stdout",
     "output_type": "stream",
     "text": [
      "2 \n",
      " Thursday \n",
      " 3 \n",
      " 2 \n",
      " 31\n"
     ]
    }
   ],
   "source": [
    "print(sample.day,\"\\n\",sample.day_name(),\"\\n\",sample.dayofweek,\"\\n\",sample.dayofyear,\"\\n\",sample.daysinmonth)"
   ]
  },
  {
   "cell_type": "markdown",
   "id": "a93bf5b5",
   "metadata": {},
   "source": [
    "## Times\n",
    "### Time\n",
    "`time()` returns just the time portion of the time stamp."
   ]
  },
  {
   "cell_type": "code",
   "execution_count": 11,
   "id": "3cc508fd",
   "metadata": {},
   "outputs": [
    {
     "name": "stdout",
     "output_type": "stream",
     "text": [
      "10:06:32\n"
     ]
    }
   ],
   "source": [
    "print(sample.time())"
   ]
  },
  {
   "cell_type": "markdown",
   "id": "daac5bf5",
   "metadata": {},
   "source": [
    "### Hour\n",
    "`hour` returns the hour of the day."
   ]
  },
  {
   "cell_type": "code",
   "execution_count": 12,
   "id": "aec43949",
   "metadata": {},
   "outputs": [
    {
     "name": "stdout",
     "output_type": "stream",
     "text": [
      "10\n"
     ]
    }
   ],
   "source": [
    "print(sample.hour)"
   ]
  },
  {
   "cell_type": "markdown",
   "id": "6a4922f7",
   "metadata": {},
   "source": [
    "### Minute\n",
    "`minute` returns the minute of the hour."
   ]
  },
  {
   "cell_type": "code",
   "execution_count": 13,
   "id": "980674bf",
   "metadata": {},
   "outputs": [
    {
     "name": "stdout",
     "output_type": "stream",
     "text": [
      "6\n"
     ]
    }
   ],
   "source": [
    "print(sample.minute)"
   ]
  },
  {
   "cell_type": "markdown",
   "id": "bc50577d",
   "metadata": {},
   "source": [
    "### Second\n",
    "`second` returns the second of the minute."
   ]
  },
  {
   "cell_type": "code",
   "execution_count": 14,
   "id": "914807eb",
   "metadata": {},
   "outputs": [
    {
     "name": "stdout",
     "output_type": "stream",
     "text": [
      "32\n"
     ]
    }
   ],
   "source": [
    "print(sample.second)"
   ]
  },
  {
   "cell_type": "markdown",
   "id": "9bcb60a3",
   "metadata": {},
   "source": [
    "## Timezones\n",
    "`normalize()` this converts all times to midnight. It is useful in cases where the time does not matter, and all you are interested in is the date."
   ]
  },
  {
   "cell_type": "code",
   "execution_count": 15,
   "id": "85972803",
   "metadata": {},
   "outputs": [
    {
     "name": "stdout",
     "output_type": "stream",
     "text": [
      "2014-01-02 00:00:00+00:00\n"
     ]
    }
   ],
   "source": [
    "print(sample.normalize())"
   ]
  },
  {
   "cell_type": "markdown",
   "id": "06afb05f",
   "metadata": {},
   "source": [
    "`tz` returns the timezone of the timestamp."
   ]
  },
  {
   "cell_type": "code",
   "execution_count": 16,
   "id": "631cba7f",
   "metadata": {},
   "outputs": [
    {
     "name": "stdout",
     "output_type": "stream",
     "text": [
      "UTC\n"
     ]
    }
   ],
   "source": [
    "print(sample.tz)"
   ]
  },
  {
   "cell_type": "markdown",
   "id": "55d5de72",
   "metadata": {},
   "source": [
    "`tz_convert` converts the timestamp into one of the specified timezone. Provide the new timezone as `Continent/City`"
   ]
  },
  {
   "cell_type": "code",
   "execution_count": 17,
   "id": "fe727eaf",
   "metadata": {},
   "outputs": [
    {
     "name": "stdout",
     "output_type": "stream",
     "text": [
      "2014-01-02 13:06:32+03:00 Africa/Nairobi\n"
     ]
    }
   ],
   "source": [
    "zt = \"Africa/Nairobi\"\n",
    "print(sample.tz_convert(zt),sample.tz_convert(zt).tz)"
   ]
  },
  {
   "cell_type": "markdown",
   "id": "7efcc3a1",
   "metadata": {},
   "source": [
    "## Data Processing\n",
    "Now that we have seen some of the attributes and methods of `DatetiemIndex`, let us use them in processing our data."
   ]
  },
  {
   "cell_type": "code",
   "execution_count": 18,
   "id": "72c21c8a",
   "metadata": {},
   "outputs": [
    {
     "data": {
      "text/html": [
       "<div>\n",
       "<style scoped>\n",
       "    .dataframe tbody tr th:only-of-type {\n",
       "        vertical-align: middle;\n",
       "    }\n",
       "\n",
       "    .dataframe tbody tr th {\n",
       "        vertical-align: top;\n",
       "    }\n",
       "\n",
       "    .dataframe thead th {\n",
       "        text-align: right;\n",
       "    }\n",
       "</style>\n",
       "<table border=\"1\" class=\"dataframe\">\n",
       "  <thead>\n",
       "    <tr style=\"text-align: right;\">\n",
       "      <th></th>\n",
       "      <th>loan_amount</th>\n",
       "      <th>sector</th>\n",
       "      <th>country</th>\n",
       "      <th>funded_time</th>\n",
       "    </tr>\n",
       "  </thead>\n",
       "  <tbody>\n",
       "    <tr>\n",
       "      <th>231158</th>\n",
       "      <td>425.0</td>\n",
       "      <td>Retail</td>\n",
       "      <td>Mozambique</td>\n",
       "      <td>2015-05-08 15:09:06+00:00</td>\n",
       "    </tr>\n",
       "    <tr>\n",
       "      <th>496813</th>\n",
       "      <td>275.0</td>\n",
       "      <td>Food</td>\n",
       "      <td>Philippines</td>\n",
       "      <td>2016-10-03 23:05:06+00:00</td>\n",
       "    </tr>\n",
       "    <tr>\n",
       "      <th>135791</th>\n",
       "      <td>250.0</td>\n",
       "      <td>Food</td>\n",
       "      <td>India</td>\n",
       "      <td>2014-11-02 13:56:06+00:00</td>\n",
       "    </tr>\n",
       "    <tr>\n",
       "      <th>396269</th>\n",
       "      <td>550.0</td>\n",
       "      <td>Clothing</td>\n",
       "      <td>Palestine</td>\n",
       "      <td>2016-04-18 14:18:19+00:00</td>\n",
       "    </tr>\n",
       "    <tr>\n",
       "      <th>492414</th>\n",
       "      <td>1000.0</td>\n",
       "      <td>Transportation</td>\n",
       "      <td>Kenya</td>\n",
       "      <td>NaT</td>\n",
       "    </tr>\n",
       "    <tr>\n",
       "      <th>...</th>\n",
       "      <td>...</td>\n",
       "      <td>...</td>\n",
       "      <td>...</td>\n",
       "      <td>...</td>\n",
       "    </tr>\n",
       "    <tr>\n",
       "      <th>46792</th>\n",
       "      <td>250.0</td>\n",
       "      <td>Retail</td>\n",
       "      <td>Philippines</td>\n",
       "      <td>2014-04-21 18:24:07+00:00</td>\n",
       "    </tr>\n",
       "    <tr>\n",
       "      <th>49195</th>\n",
       "      <td>1675.0</td>\n",
       "      <td>Services</td>\n",
       "      <td>Kosovo</td>\n",
       "      <td>2014-05-20 14:02:47+00:00</td>\n",
       "    </tr>\n",
       "    <tr>\n",
       "      <th>618286</th>\n",
       "      <td>175.0</td>\n",
       "      <td>Personal Use</td>\n",
       "      <td>Mexico</td>\n",
       "      <td>2017-04-18 17:25:05+00:00</td>\n",
       "    </tr>\n",
       "    <tr>\n",
       "      <th>548776</th>\n",
       "      <td>625.0</td>\n",
       "      <td>Retail</td>\n",
       "      <td>Philippines</td>\n",
       "      <td>2017-01-03 08:49:28+00:00</td>\n",
       "    </tr>\n",
       "    <tr>\n",
       "      <th>356420</th>\n",
       "      <td>1875.0</td>\n",
       "      <td>Retail</td>\n",
       "      <td>Mexico</td>\n",
       "      <td>2016-01-05 15:57:56+00:00</td>\n",
       "    </tr>\n",
       "  </tbody>\n",
       "</table>\n",
       "<p>1000 rows × 4 columns</p>\n",
       "</div>"
      ],
      "text/plain": [
       "        loan_amount          sector      country               funded_time\n",
       "231158        425.0          Retail   Mozambique 2015-05-08 15:09:06+00:00\n",
       "496813        275.0            Food  Philippines 2016-10-03 23:05:06+00:00\n",
       "135791        250.0            Food        India 2014-11-02 13:56:06+00:00\n",
       "396269        550.0        Clothing    Palestine 2016-04-18 14:18:19+00:00\n",
       "492414       1000.0  Transportation        Kenya                       NaT\n",
       "...             ...             ...          ...                       ...\n",
       "46792         250.0          Retail  Philippines 2014-04-21 18:24:07+00:00\n",
       "49195        1675.0        Services       Kosovo 2014-05-20 14:02:47+00:00\n",
       "618286        175.0    Personal Use       Mexico 2017-04-18 17:25:05+00:00\n",
       "548776        625.0          Retail  Philippines 2017-01-03 08:49:28+00:00\n",
       "356420       1875.0          Retail       Mexico 2016-01-05 15:57:56+00:00\n",
       "\n",
       "[1000 rows x 4 columns]"
      ]
     },
     "execution_count": 18,
     "metadata": {},
     "output_type": "execute_result"
    }
   ],
   "source": [
    "df.sample(1000)"
   ]
  }
 ],
 "metadata": {
  "kernelspec": {
   "display_name": "Python 3",
   "language": "python",
   "name": "python3"
  },
  "language_info": {
   "codemirror_mode": {
    "name": "ipython",
    "version": 3
   },
   "file_extension": ".py",
   "mimetype": "text/x-python",
   "name": "python",
   "nbconvert_exporter": "python",
   "pygments_lexer": "ipython3",
   "version": "3.8.8"
  }
 },
 "nbformat": 4,
 "nbformat_minor": 5
}
