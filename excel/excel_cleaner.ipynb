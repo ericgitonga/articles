{
 "cells": [
  {
   "cell_type": "code",
   "execution_count": 1,
   "id": "efd1bdb2",
   "metadata": {},
   "outputs": [],
   "source": [
    "import pandas as pd"
   ]
  },
  {
   "cell_type": "markdown",
   "id": "62a26378",
   "metadata": {},
   "source": [
    "Read in the data as a multi-hierarchical dataframe"
   ]
  },
  {
   "cell_type": "code",
   "execution_count": 2,
   "id": "4c2eb03e",
   "metadata": {},
   "outputs": [
    {
     "data": {
      "text/html": [
       "<div>\n",
       "<style scoped>\n",
       "    .dataframe tbody tr th:only-of-type {\n",
       "        vertical-align: middle;\n",
       "    }\n",
       "\n",
       "    .dataframe tbody tr th {\n",
       "        vertical-align: top;\n",
       "    }\n",
       "\n",
       "    .dataframe thead tr th {\n",
       "        text-align: left;\n",
       "    }\n",
       "</style>\n",
       "<table border=\"1\" class=\"dataframe\">\n",
       "  <thead>\n",
       "    <tr>\n",
       "      <th></th>\n",
       "      <th>Unnamed: 0_level_0</th>\n",
       "      <th>Unnamed: 1_level_0</th>\n",
       "      <th>Unnamed: 2_level_0</th>\n",
       "      <th colspan=\"4\" halign=\"left\">July 26, 2020</th>\n",
       "      <th colspan=\"3\" halign=\"left\">August 2, 2020</th>\n",
       "      <th>...</th>\n",
       "      <th colspan=\"2\" halign=\"left\">August 23, 2020</th>\n",
       "      <th colspan=\"4\" halign=\"left\">August 30, 2020</th>\n",
       "      <th colspan=\"4\" halign=\"left\">September 6, 2020</th>\n",
       "    </tr>\n",
       "    <tr>\n",
       "      <th></th>\n",
       "      <th>agent_id</th>\n",
       "      <th>Location</th>\n",
       "      <th>Agent_age_Months</th>\n",
       "      <th>Revenue</th>\n",
       "      <th>Customers</th>\n",
       "      <th>#Orders</th>\n",
       "      <th>Order frequency</th>\n",
       "      <th>Revenue</th>\n",
       "      <th>Customers</th>\n",
       "      <th>#Orders</th>\n",
       "      <th>...</th>\n",
       "      <th>#Orders</th>\n",
       "      <th>Order frequency</th>\n",
       "      <th>Revenue</th>\n",
       "      <th>Customers</th>\n",
       "      <th>#Orders</th>\n",
       "      <th>Order frequency</th>\n",
       "      <th>Revenue</th>\n",
       "      <th>Customers</th>\n",
       "      <th>#Orders</th>\n",
       "      <th>Order frequency</th>\n",
       "    </tr>\n",
       "  </thead>\n",
       "  <tbody>\n",
       "    <tr>\n",
       "      <th>0</th>\n",
       "      <td>40</td>\n",
       "      <td>Kiambu / Kabete / Uthiru</td>\n",
       "      <td>87</td>\n",
       "      <td>2148.34</td>\n",
       "      <td>10</td>\n",
       "      <td>10</td>\n",
       "      <td>10</td>\n",
       "      <td>16225.19</td>\n",
       "      <td>1</td>\n",
       "      <td>1</td>\n",
       "      <td>...</td>\n",
       "      <td>5</td>\n",
       "      <td>2</td>\n",
       "      <td>6845.14</td>\n",
       "      <td>5</td>\n",
       "      <td>13</td>\n",
       "      <td>6</td>\n",
       "      <td>2831.93</td>\n",
       "      <td>3</td>\n",
       "      <td>6</td>\n",
       "      <td>3</td>\n",
       "    </tr>\n",
       "    <tr>\n",
       "      <th>1</th>\n",
       "      <td>52</td>\n",
       "      <td>Kiambu / Kabete / Uthiru</td>\n",
       "      <td>87</td>\n",
       "      <td>2148.34</td>\n",
       "      <td>10</td>\n",
       "      <td>10</td>\n",
       "      <td>10</td>\n",
       "      <td>16225.19</td>\n",
       "      <td>1</td>\n",
       "      <td>1</td>\n",
       "      <td>...</td>\n",
       "      <td>5</td>\n",
       "      <td>2</td>\n",
       "      <td>6845.14</td>\n",
       "      <td>5</td>\n",
       "      <td>13</td>\n",
       "      <td>6</td>\n",
       "      <td>2831.93</td>\n",
       "      <td>3</td>\n",
       "      <td>6</td>\n",
       "      <td>3</td>\n",
       "    </tr>\n",
       "  </tbody>\n",
       "</table>\n",
       "<p>2 rows × 31 columns</p>\n",
       "</div>"
      ],
      "text/plain": [
       "  Unnamed: 0_level_0        Unnamed: 1_level_0 Unnamed: 2_level_0  \\\n",
       "            agent_id                  Location   Agent_age_Months   \n",
       "0                 40  Kiambu / Kabete / Uthiru                 87   \n",
       "1                 52  Kiambu / Kabete / Uthiru                 87   \n",
       "\n",
       "  July 26, 2020                                    August 2, 2020             \\\n",
       "        Revenue  Customers #Orders Order frequency        Revenue  Customers   \n",
       "0       2148.34         10      10              10       16225.19          1   \n",
       "1       2148.34         10      10              10       16225.19          1   \n",
       "\n",
       "           ... August 23, 2020                 August 30, 2020             \\\n",
       "  #Orders  ...         #Orders Order frequency         Revenue  Customers   \n",
       "0       1  ...               5               2         6845.14          5   \n",
       "1       1  ...               5               2         6845.14          5   \n",
       "\n",
       "                          September 6, 2020                                     \n",
       "  #Orders Order frequency           Revenue  Customers #Orders Order frequency  \n",
       "0      13               6           2831.93          3       6               3  \n",
       "1      13               6           2831.93          3       6               3  \n",
       "\n",
       "[2 rows x 31 columns]"
      ]
     },
     "execution_count": 2,
     "metadata": {},
     "output_type": "execute_result"
    }
   ],
   "source": [
    "df = pd.read_excel(\"Mock-Up Data.xlsx\", header=[0,1])\n",
    "df.head(2)"
   ]
  },
  {
   "cell_type": "markdown",
   "id": "967f628b",
   "metadata": {},
   "source": [
    "If you want to get a list of columns, you will get a list of tuples (main name, sub-name).  \n",
    "We want a list of just main name, so iterate over the column names and form a new list of unique column names.  \n",
    "We want all but the first group of columns..."
   ]
  },
  {
   "cell_type": "code",
   "execution_count": 3,
   "id": "b43ce777",
   "metadata": {},
   "outputs": [],
   "source": [
    "items = []\n",
    "for i in list(df.columns):\n",
    "    if i[0] not in items and not i[0].startswith(\"Unnamed\"):\n",
    "        items.append(i[0])"
   ]
  },
  {
   "cell_type": "markdown",
   "id": "78e5bac8",
   "metadata": {},
   "source": [
    "We now extract the columns under each main column name and set that as its own dataframe... We use the `globals()` function to create sequential variable names for the different dataframes."
   ]
  },
  {
   "cell_type": "code",
   "execution_count": 4,
   "id": "04d245d1",
   "metadata": {},
   "outputs": [],
   "source": [
    "dftest = []\n",
    "for i, val in enumerate(items):\n",
    "    globals()[\"df%s\" %i] = df[[val]]\n",
    "    dftest.append(globals()[\"df%s\" %i])"
   ]
  },
  {
   "cell_type": "markdown",
   "id": "28e7667d",
   "metadata": {},
   "source": [
    "We need to define two functions...\n",
    "1. df_flatten will help flatten the multi-hierarchical dataframe into a flat dataframe. We use the `to_records()` method for this.\n",
    "2. df_organize will move the date column to the start of the dataframe."
   ]
  },
  {
   "cell_type": "code",
   "execution_count": 5,
   "id": "923d5601",
   "metadata": {},
   "outputs": [],
   "source": [
    "def df_flatten(df):\n",
    "    df = pd.DataFrame(df.to_records())\n",
    "    df.drop(\"index\",axis=\"columns\",inplace=True)\n",
    "    return df\n",
    "\n",
    "def df_organize(df,index):\n",
    "    date = df[list(df.columns)[index]]\n",
    "    df = df.drop(['date'],axis=1)\n",
    "    df.insert(0,'date',date)    \n",
    "    return df"
   ]
  },
  {
   "cell_type": "markdown",
   "id": "176e8d0c",
   "metadata": {},
   "source": [
    "We shall create a new list of the dataframes. We will process them so that for each dataframe we got:\n",
    "1. Flatten it\n",
    "2. Rename the columns\n",
    "3. Add a date column\n",
    "4. Move the date column to the beginning of the dataframe"
   ]
  },
  {
   "cell_type": "code",
   "execution_count": 6,
   "id": "a4fe1edd",
   "metadata": {},
   "outputs": [],
   "source": [
    "reorg_dfs = []\n",
    "\n",
    "for i, value in enumerate(dftest):\n",
    "    value = df_flatten(value)\n",
    "    value.columns = [\"Revenue\", \"Customers\", \"#Orders\", \"Order frequency\"]\n",
    "    value[\"date\"] = items[i]\n",
    "    value = df_organize(value,-1)\n",
    "    reorg_dfs.append(value)"
   ]
  },
  {
   "cell_type": "markdown",
   "id": "8153e7fb",
   "metadata": {},
   "source": [
    "We also want to create a dataframe of the first 3 columns of the spreadsheet. So subset it from the main dataframe, then flatten it and rename the columns."
   ]
  },
  {
   "cell_type": "code",
   "execution_count": 7,
   "id": "5ea773ab",
   "metadata": {},
   "outputs": [],
   "source": [
    "dfa = df.iloc[:,:3]\n",
    "df_flatten(dfa)\n",
    "dfa.columns = [\"agent_id\", \"Location\", \"Agent_age_Months\"]"
   ]
  },
  {
   "cell_type": "markdown",
   "id": "83315691",
   "metadata": {},
   "source": [
    "Now we want to create a new list of dataframes. These dataframes are concatenations of the first 3 columns and the 4 columns of each of the period dataframes."
   ]
  },
  {
   "cell_type": "code",
   "execution_count": 8,
   "id": "03273091",
   "metadata": {},
   "outputs": [],
   "source": [
    "d = []\n",
    "for i, val in enumerate(reorg_dfs):\n",
    "    globals()[\"d%s\" %i] = pd.concat([dfa,reorg_dfs[i]],1)\n",
    "    d.append(globals()[\"d%s\" %i])\n",
    "df_final = pd.concat(d,ignore_index=True)"
   ]
  },
  {
   "cell_type": "markdown",
   "id": "b4861f75",
   "metadata": {},
   "source": [
    "Now we move the date column to the beginning.  \n",
    "Then we convert it from the given format to the MMM-DD format."
   ]
  },
  {
   "cell_type": "code",
   "execution_count": 9,
   "id": "e1201cfb",
   "metadata": {},
   "outputs": [],
   "source": [
    "df_final = df_organize(df_final,3)\n",
    "df_final[\"date\"] = pd.to_datetime(df_final[\"date\"])\n",
    "df_final[\"date\"] = df_final[\"date\"].apply(lambda x: x.strftime(\"%b-%d\"))"
   ]
  },
  {
   "cell_type": "markdown",
   "id": "04f15007",
   "metadata": {},
   "source": [
    "Finally we write the dataframe to file."
   ]
  },
  {
   "cell_type": "code",
   "execution_count": 10,
   "id": "9e5d7dae",
   "metadata": {},
   "outputs": [],
   "source": [
    "df_final.to_excel(\"fiona.xlsx\",index=False)"
   ]
  }
 ],
 "metadata": {
  "kernelspec": {
   "display_name": "Python 3",
   "language": "python",
   "name": "python3"
  },
  "language_info": {
   "codemirror_mode": {
    "name": "ipython",
    "version": 3
   },
   "file_extension": ".py",
   "mimetype": "text/x-python",
   "name": "python",
   "nbconvert_exporter": "python",
   "pygments_lexer": "ipython3",
   "version": "3.8.8"
  }
 },
 "nbformat": 4,
 "nbformat_minor": 5
}
