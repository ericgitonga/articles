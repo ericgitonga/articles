{
 "cells": [
  {
   "cell_type": "code",
   "execution_count": 1,
   "id": "efd1bdb2",
   "metadata": {},
   "outputs": [],
   "source": [
    "import pandas as pd\n",
    "import tkinter as tk\n",
    "from tkinter import filedialog as fd"
   ]
  },
  {
   "cell_type": "markdown",
   "id": "62a26378",
   "metadata": {},
   "source": [
    "Read in the data as a multi-hierarchical dataframe"
   ]
  },
  {
   "cell_type": "code",
   "execution_count": 2,
   "id": "4c2eb03e",
   "metadata": {},
   "outputs": [
    {
     "data": {
      "text/html": [
       "<div>\n",
       "<style scoped>\n",
       "    .dataframe tbody tr th:only-of-type {\n",
       "        vertical-align: middle;\n",
       "    }\n",
       "\n",
       "    .dataframe tbody tr th {\n",
       "        vertical-align: top;\n",
       "    }\n",
       "\n",
       "    .dataframe thead tr th {\n",
       "        text-align: left;\n",
       "    }\n",
       "</style>\n",
       "<table border=\"1\" class=\"dataframe\">\n",
       "  <thead>\n",
       "    <tr>\n",
       "      <th></th>\n",
       "      <th colspan=\"3\" halign=\"left\">World Info</th>\n",
       "      <th colspan=\"5\" halign=\"left\">February 1, 2020</th>\n",
       "      <th colspan=\"2\" halign=\"left\">April 1, 2020</th>\n",
       "      <th>...</th>\n",
       "      <th colspan=\"5\" halign=\"left\">October 1, 2020</th>\n",
       "      <th colspan=\"5\" halign=\"left\">December 1, 2020</th>\n",
       "    </tr>\n",
       "    <tr>\n",
       "      <th></th>\n",
       "      <th>ID</th>\n",
       "      <th>World</th>\n",
       "      <th>Area</th>\n",
       "      <th>Taloids</th>\n",
       "      <th>Autobots</th>\n",
       "      <th>Hobbits</th>\n",
       "      <th>Amazons</th>\n",
       "      <th>Time Lords</th>\n",
       "      <th>Taloids</th>\n",
       "      <th>Autobots</th>\n",
       "      <th>...</th>\n",
       "      <th>Taloids</th>\n",
       "      <th>Autobots</th>\n",
       "      <th>Hobbits</th>\n",
       "      <th>Amazons</th>\n",
       "      <th>Time Lords</th>\n",
       "      <th>Taloids</th>\n",
       "      <th>Autobots</th>\n",
       "      <th>Hobbits</th>\n",
       "      <th>Amazons</th>\n",
       "      <th>Time Lords</th>\n",
       "    </tr>\n",
       "  </thead>\n",
       "  <tbody>\n",
       "    <tr>\n",
       "      <th>0</th>\n",
       "      <td>C0132</td>\n",
       "      <td>Titan</td>\n",
       "      <td>1168</td>\n",
       "      <td>423</td>\n",
       "      <td>411</td>\n",
       "      <td>186</td>\n",
       "      <td>439</td>\n",
       "      <td>156</td>\n",
       "      <td>334</td>\n",
       "      <td>372</td>\n",
       "      <td>...</td>\n",
       "      <td>1254</td>\n",
       "      <td>1184</td>\n",
       "      <td>1005</td>\n",
       "      <td>1216</td>\n",
       "      <td>922</td>\n",
       "      <td>1279</td>\n",
       "      <td>1297</td>\n",
       "      <td>1145</td>\n",
       "      <td>1196</td>\n",
       "      <td>1342</td>\n",
       "    </tr>\n",
       "    <tr>\n",
       "      <th>1</th>\n",
       "      <td>C4974</td>\n",
       "      <td>Cybertron</td>\n",
       "      <td>2536</td>\n",
       "      <td>258</td>\n",
       "      <td>183</td>\n",
       "      <td>199</td>\n",
       "      <td>154</td>\n",
       "      <td>287</td>\n",
       "      <td>427</td>\n",
       "      <td>675</td>\n",
       "      <td>...</td>\n",
       "      <td>985</td>\n",
       "      <td>1260</td>\n",
       "      <td>1229</td>\n",
       "      <td>1123</td>\n",
       "      <td>1260</td>\n",
       "      <td>1225</td>\n",
       "      <td>1153</td>\n",
       "      <td>1385</td>\n",
       "      <td>1367</td>\n",
       "      <td>1152</td>\n",
       "    </tr>\n",
       "    <tr>\n",
       "      <th>2</th>\n",
       "      <td>C2967</td>\n",
       "      <td>Middle Earth</td>\n",
       "      <td>1751</td>\n",
       "      <td>210</td>\n",
       "      <td>494</td>\n",
       "      <td>338</td>\n",
       "      <td>290</td>\n",
       "      <td>384</td>\n",
       "      <td>313</td>\n",
       "      <td>629</td>\n",
       "      <td>...</td>\n",
       "      <td>1152</td>\n",
       "      <td>1121</td>\n",
       "      <td>1077</td>\n",
       "      <td>1040</td>\n",
       "      <td>1034</td>\n",
       "      <td>1176</td>\n",
       "      <td>1101</td>\n",
       "      <td>1372</td>\n",
       "      <td>1394</td>\n",
       "      <td>1234</td>\n",
       "    </tr>\n",
       "    <tr>\n",
       "      <th>3</th>\n",
       "      <td>C9014</td>\n",
       "      <td>Themyscira</td>\n",
       "      <td>1030</td>\n",
       "      <td>274</td>\n",
       "      <td>409</td>\n",
       "      <td>458</td>\n",
       "      <td>230</td>\n",
       "      <td>287</td>\n",
       "      <td>637</td>\n",
       "      <td>472</td>\n",
       "      <td>...</td>\n",
       "      <td>1177</td>\n",
       "      <td>926</td>\n",
       "      <td>1012</td>\n",
       "      <td>1195</td>\n",
       "      <td>1130</td>\n",
       "      <td>1195</td>\n",
       "      <td>1135</td>\n",
       "      <td>1307</td>\n",
       "      <td>1369</td>\n",
       "      <td>1415</td>\n",
       "    </tr>\n",
       "    <tr>\n",
       "      <th>4</th>\n",
       "      <td>C7046</td>\n",
       "      <td>Gallifrey</td>\n",
       "      <td>3321</td>\n",
       "      <td>413</td>\n",
       "      <td>205</td>\n",
       "      <td>352</td>\n",
       "      <td>188</td>\n",
       "      <td>142</td>\n",
       "      <td>643</td>\n",
       "      <td>369</td>\n",
       "      <td>...</td>\n",
       "      <td>1046</td>\n",
       "      <td>1251</td>\n",
       "      <td>1017</td>\n",
       "      <td>1186</td>\n",
       "      <td>1158</td>\n",
       "      <td>1101</td>\n",
       "      <td>1185</td>\n",
       "      <td>1251</td>\n",
       "      <td>1320</td>\n",
       "      <td>1379</td>\n",
       "    </tr>\n",
       "  </tbody>\n",
       "</table>\n",
       "<p>5 rows × 33 columns</p>\n",
       "</div>"
      ],
      "text/plain": [
       "  World Info                     February 1, 2020                           \\\n",
       "          ID         World  Area          Taloids Autobots Hobbits Amazons   \n",
       "0      C0132         Titan  1168              423      411     186     439   \n",
       "1      C4974     Cybertron  2536              258      183     199     154   \n",
       "2      C2967  Middle Earth  1751              210      494     338     290   \n",
       "3      C9014    Themyscira  1030              274      409     458     230   \n",
       "4      C7046     Gallifrey  3321              413      205     352     188   \n",
       "\n",
       "             April 1, 2020           ... October 1, 2020                   \\\n",
       "  Time Lords       Taloids Autobots  ...         Taloids Autobots Hobbits   \n",
       "0        156           334      372  ...            1254     1184    1005   \n",
       "1        287           427      675  ...             985     1260    1229   \n",
       "2        384           313      629  ...            1152     1121    1077   \n",
       "3        287           637      472  ...            1177      926    1012   \n",
       "4        142           643      369  ...            1046     1251    1017   \n",
       "\n",
       "                     December 1, 2020                                      \n",
       "  Amazons Time Lords          Taloids Autobots Hobbits Amazons Time Lords  \n",
       "0    1216        922             1279     1297    1145    1196       1342  \n",
       "1    1123       1260             1225     1153    1385    1367       1152  \n",
       "2    1040       1034             1176     1101    1372    1394       1234  \n",
       "3    1195       1130             1195     1135    1307    1369       1415  \n",
       "4    1186       1158             1101     1185    1251    1320       1379  \n",
       "\n",
       "[5 rows x 33 columns]"
      ]
     },
     "execution_count": 2,
     "metadata": {},
     "output_type": "execute_result"
    }
   ],
   "source": [
    "root = tk.Tk()\n",
    "file = fd.askopenfile()\n",
    "root.destroy()\n",
    "\n",
    "df = pd.read_excel(file.name, header = [0,1], sheet_name = \"Wide\")\n",
    "df.head()"
   ]
  },
  {
   "cell_type": "markdown",
   "id": "967f628b",
   "metadata": {},
   "source": [
    "If you want to get a list of columns, you will get a list of tuples (main name, sub-name).  \n",
    "We want a list of just main name, so iterate over the column names and form a new list of unique column names.  \n",
    "We want all but the first group of columns..."
   ]
  },
  {
   "cell_type": "code",
   "execution_count": 3,
   "id": "b43ce777",
   "metadata": {},
   "outputs": [],
   "source": [
    "dates = []\n",
    "for i in list(df.columns):\n",
    "    if i[0] not in dates and not i[0].startswith(\"World\"):\n",
    "        dates.append(i[0])"
   ]
  },
  {
   "cell_type": "markdown",
   "id": "78e5bac8",
   "metadata": {},
   "source": [
    "We now extract the columns under each main column name and set that as its own dataframe... We use the `globals()` function to create sequential variable names for the different dataframes."
   ]
  },
  {
   "cell_type": "code",
   "execution_count": 4,
   "id": "04d245d1",
   "metadata": {},
   "outputs": [],
   "source": [
    "extracted_dfs = []\n",
    "for i, val in enumerate(dates):\n",
    "    globals()[\"df%s\" %i] = df[[val]]\n",
    "    extracted_dfs.append(globals()[\"df%s\" %i])"
   ]
  },
  {
   "cell_type": "markdown",
   "id": "28e7667d",
   "metadata": {},
   "source": [
    "We need to define two functions...\n",
    "1. df_flatten will help flatten the multi-hierarchical dataframe into a flat dataframe. We use the `to_records()` method for this.\n",
    "2. df_organize will move the date column to the start of the dataframe."
   ]
  },
  {
   "cell_type": "code",
   "execution_count": 5,
   "id": "923d5601",
   "metadata": {},
   "outputs": [],
   "source": [
    "def df_flatten(df):\n",
    "    df = pd.DataFrame(df.to_records())\n",
    "    df.drop(\"index\",axis=\"columns\",inplace=True)\n",
    "    return df\n",
    "\n",
    "def df_organize(df,index):\n",
    "    date = df[list(df.columns)[index]]\n",
    "    df = df.drop(['date'],axis=1)\n",
    "    df.insert(0,'date',date)    \n",
    "    return df"
   ]
  },
  {
   "cell_type": "markdown",
   "id": "176e8d0c",
   "metadata": {},
   "source": [
    "We shall create a new list of the dataframes. We will process them so that for each dataframe we got:\n",
    "1. Flatten it\n",
    "2. Rename the columns\n",
    "3. Add a date column\n",
    "4. Move the date column to the beginning of the dataframe"
   ]
  },
  {
   "cell_type": "code",
   "execution_count": 6,
   "id": "a4fe1edd",
   "metadata": {},
   "outputs": [],
   "source": [
    "column_names = []\n",
    "for i in list(df.columns):\n",
    "    if i[1] not in column_names and not i[0].startswith(\"World\"):\n",
    "        column_names.append(i[1])\n",
    "\n",
    "reorganized_dfs = []\n",
    "for i, value in enumerate(extracted_dfs):\n",
    "    value = df_flatten(value)\n",
    "    value.columns = column_names\n",
    "    value[\"date\"] = dates[i]\n",
    "    value = df_organize(value,-1)\n",
    "    reorganized_dfs.append(value)"
   ]
  },
  {
   "cell_type": "markdown",
   "id": "8153e7fb",
   "metadata": {},
   "source": [
    "We also want to create a dataframe of the first 3 columns of the spreadsheet. So subset it from the main dataframe, then flatten it and rename the columns."
   ]
  },
  {
   "cell_type": "code",
   "execution_count": 7,
   "id": "5ea773ab",
   "metadata": {},
   "outputs": [],
   "source": [
    "column_names = []\n",
    "for i in list(df.columns):\n",
    "    if i[1] not in column_names and i[0].startswith(\"World\"):\n",
    "        column_names.append(i[1])\n",
    "\n",
    "df_first_columns = df.iloc[:,:3]\n",
    "df_flatten(df_first_columns)\n",
    "df_first_columns.columns = column_names"
   ]
  },
  {
   "cell_type": "markdown",
   "id": "83315691",
   "metadata": {},
   "source": [
    "Now we want to create a new list of dataframes. These dataframes are concatenations of the first 3 columns and the 4 columns of each of the period dataframes."
   ]
  },
  {
   "cell_type": "code",
   "execution_count": 8,
   "id": "03273091",
   "metadata": {},
   "outputs": [],
   "source": [
    "dfs_to_concatenate = []\n",
    "for i, value in enumerate(reorganized_dfs):\n",
    "    globals()[\"d%s\" %i] = pd.concat([df_first_columns,reorganized_dfs[i]],1)\n",
    "    dfs_to_concatenate.append(globals()[\"d%s\" %i])\n",
    "df_final = pd.concat(dfs_to_concatenate,ignore_index=True)"
   ]
  },
  {
   "cell_type": "markdown",
   "id": "b4861f75",
   "metadata": {},
   "source": [
    "Now we move the date column to the beginning.  \n",
    "Then we convert it from the given format to the MMM-DD format."
   ]
  },
  {
   "cell_type": "code",
   "execution_count": 9,
   "id": "e1201cfb",
   "metadata": {},
   "outputs": [],
   "source": [
    "df_final = df_organize(df_final,3)\n",
    "df_final[\"date\"] = pd.to_datetime(df_final[\"date\"])\n",
    "df_final[\"date\"] = df_final[\"date\"].apply(lambda x: x.strftime(\"%b-%d\"))"
   ]
  },
  {
   "cell_type": "markdown",
   "id": "04f15007",
   "metadata": {},
   "source": [
    "Finally we write the dataframe to file."
   ]
  },
  {
   "cell_type": "code",
   "execution_count": 10,
   "id": "9e5d7dae",
   "metadata": {},
   "outputs": [],
   "source": [
    "df_final.to_excel(\"../data/wc.xlsx\",index=False)"
   ]
  }
 ],
 "metadata": {
  "kernelspec": {
   "display_name": "Python 3",
   "language": "python",
   "name": "python3"
  },
  "language_info": {
   "codemirror_mode": {
    "name": "ipython",
    "version": 3
   },
   "file_extension": ".py",
   "mimetype": "text/x-python",
   "name": "python",
   "nbconvert_exporter": "python",
   "pygments_lexer": "ipython3",
   "version": "3.8.8"
  }
 },
 "nbformat": 4,
 "nbformat_minor": 5
}
